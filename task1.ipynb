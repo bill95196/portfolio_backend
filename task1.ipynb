{
 "cells": [
  {
   "cell_type": "markdown",
   "id": "24e95009",
   "metadata": {},
   "source": [
    "### 1. read the data and data processing"
   ]
  },
  {
   "cell_type": "markdown",
   "id": "2070dcd3",
   "metadata": {},
   "source": [
    "read the transaction data(csv or json)"
   ]
  },
  {
   "cell_type": "code",
   "execution_count": 1,
   "id": "2dfe04e5",
   "metadata": {},
   "outputs": [],
   "source": [
    "import pandas as pd"
   ]
  },
  {
   "cell_type": "code",
   "execution_count": 2,
   "id": "b030590a",
   "metadata": {},
   "outputs": [],
   "source": [
    "# read sample.csv\n",
    "transaction_df = pd.read_csv(\"sample.csv\")\n",
    "# data processing\n",
    "transaction_df = transaction_df.iloc[3:]\n",
    "date_time_split = transaction_df['Portfolio ID'].str.split('T', expand=True)\n",
    "transaction_df['date'] = date_time_split[0]\n",
    "transaction_df['time'] = date_time_split[1].str[:8]\n",
    "transaction_df['time'] = pd.to_datetime(transaction_df['time'],format= '%H:%M:%S' ).dt.time\n",
    "\n",
    "transaction_df = transaction_df.rename(columns={'User Name': 'tic', 'Cash Left':'Qty','Unnamed: 7':'Amount'})\n",
    "\n",
    "transaction_df = transaction_df[['date','time','tic','Qty','Amount']]\n",
    "transaction_df['Qty'] = pd.to_numeric(transaction_df['Qty'], errors='coerce', downcast='integer')\n",
    "transaction_df['Amount'] = pd.to_numeric(transaction_df['Amount'], errors='coerce', downcast='integer')\n",
    "\n",
    "transaction_df['Price'] = abs(transaction_df['Amount']/transaction_df['Qty'])\n",
    "transaction_df.loc[transaction_df['Amount'] < 0, 'Qty'] *= -1\n",
    "\n",
    "transaction_df['time'] = pd.to_datetime(transaction_df['time'],format= '%H:%M:%S' ).dt.time\n",
    "tran = transaction_df.groupby(['date','tic'])['Qty'].sum()\n",
    "cha = transaction_df.groupby(['date','tic'])['Amount'].sum()\n",
    "my_dataframe = pd.DataFrame({'Qty_chg': tran})\n",
    "my_dataframe['Amount_chg'] = cha\n",
    "my_dataframe['Qty']  = my_dataframe.groupby(['tic'])['Qty_chg'].cumsum()\n",
    "my_dataframe['Amount']  = my_dataframe['Amount_chg'].cumsum()"
   ]
  },
  {
   "cell_type": "code",
   "execution_count": 3,
   "id": "e20c7dfb",
   "metadata": {},
   "outputs": [
    {
     "data": {
      "text/html": [
       "<div>\n",
       "<style scoped>\n",
       "    .dataframe tbody tr th:only-of-type {\n",
       "        vertical-align: middle;\n",
       "    }\n",
       "\n",
       "    .dataframe tbody tr th {\n",
       "        vertical-align: top;\n",
       "    }\n",
       "\n",
       "    .dataframe thead th {\n",
       "        text-align: right;\n",
       "    }\n",
       "</style>\n",
       "<table border=\"1\" class=\"dataframe\">\n",
       "  <thead>\n",
       "    <tr style=\"text-align: right;\">\n",
       "      <th></th>\n",
       "      <th></th>\n",
       "      <th>Qty_chg</th>\n",
       "      <th>Amount_chg</th>\n",
       "      <th>Qty</th>\n",
       "      <th>Amount</th>\n",
       "    </tr>\n",
       "    <tr>\n",
       "      <th>date</th>\n",
       "      <th>tic</th>\n",
       "      <th></th>\n",
       "      <th></th>\n",
       "      <th></th>\n",
       "      <th></th>\n",
       "    </tr>\n",
       "  </thead>\n",
       "  <tbody>\n",
       "    <tr>\n",
       "      <th rowspan=\"5\" valign=\"top\">2023-05-22</th>\n",
       "      <th>AAPL</th>\n",
       "      <td>2000</td>\n",
       "      <td>348000.0</td>\n",
       "      <td>2000</td>\n",
       "      <td>348000.0</td>\n",
       "    </tr>\n",
       "    <tr>\n",
       "      <th>AMZN</th>\n",
       "      <td>1500</td>\n",
       "      <td>172500.0</td>\n",
       "      <td>1500</td>\n",
       "      <td>520500.0</td>\n",
       "    </tr>\n",
       "    <tr>\n",
       "      <th>MSFT</th>\n",
       "      <td>180</td>\n",
       "      <td>57600.0</td>\n",
       "      <td>180</td>\n",
       "      <td>578100.0</td>\n",
       "    </tr>\n",
       "    <tr>\n",
       "      <th>SBUX</th>\n",
       "      <td>750</td>\n",
       "      <td>77250.0</td>\n",
       "      <td>750</td>\n",
       "      <td>655350.0</td>\n",
       "    </tr>\n",
       "    <tr>\n",
       "      <th>TSLA</th>\n",
       "      <td>1600</td>\n",
       "      <td>299750.0</td>\n",
       "      <td>1600</td>\n",
       "      <td>955100.0</td>\n",
       "    </tr>\n",
       "  </tbody>\n",
       "</table>\n",
       "</div>"
      ],
      "text/plain": [
       "                 Qty_chg  Amount_chg   Qty    Amount\n",
       "date       tic                                      \n",
       "2023-05-22 AAPL     2000    348000.0  2000  348000.0\n",
       "           AMZN     1500    172500.0  1500  520500.0\n",
       "           MSFT      180     57600.0   180  578100.0\n",
       "           SBUX      750     77250.0   750  655350.0\n",
       "           TSLA     1600    299750.0  1600  955100.0"
      ]
     },
     "execution_count": 3,
     "metadata": {},
     "output_type": "execute_result"
    }
   ],
   "source": [
    "my_dataframe.head()"
   ]
  },
  {
   "cell_type": "markdown",
   "id": "78ebcbee",
   "metadata": {},
   "source": [
    "get the daily return data"
   ]
  },
  {
   "cell_type": "code",
   "execution_count": 4,
   "id": "4b6acb55",
   "metadata": {},
   "outputs": [
    {
     "name": "stdout",
     "output_type": "stream",
     "text": [
      "[*********************100%***********************]  1 of 1 completed\n",
      "[*********************100%***********************]  1 of 1 completed\n",
      "[*********************100%***********************]  1 of 1 completed\n",
      "[*********************100%***********************]  1 of 1 completed\n",
      "[*********************100%***********************]  1 of 1 completed\n",
      "[*********************100%***********************]  1 of 1 completed\n",
      "[*********************100%***********************]  1 of 1 completed\n",
      "[*********************100%***********************]  1 of 1 completed\n",
      "[*********************100%***********************]  1 of 1 completed\n",
      "[*********************100%***********************]  1 of 1 completed\n",
      "[*********************100%***********************]  1 of 1 completed\n",
      "Shape of DataFrame:  (1430, 8)\n"
     ]
    },
    {
     "data": {
      "text/html": [
       "<div>\n",
       "<style scoped>\n",
       "    .dataframe tbody tr th:only-of-type {\n",
       "        vertical-align: middle;\n",
       "    }\n",
       "\n",
       "    .dataframe tbody tr th {\n",
       "        vertical-align: top;\n",
       "    }\n",
       "\n",
       "    .dataframe thead th {\n",
       "        text-align: right;\n",
       "    }\n",
       "</style>\n",
       "<table border=\"1\" class=\"dataframe\">\n",
       "  <thead>\n",
       "    <tr style=\"text-align: right;\">\n",
       "      <th></th>\n",
       "      <th></th>\n",
       "      <th>close</th>\n",
       "      <th>day</th>\n",
       "    </tr>\n",
       "    <tr>\n",
       "      <th>date</th>\n",
       "      <th>tic</th>\n",
       "      <th></th>\n",
       "      <th></th>\n",
       "    </tr>\n",
       "  </thead>\n",
       "  <tbody>\n",
       "    <tr>\n",
       "      <th rowspan=\"5\" valign=\"top\">2023-05-01</th>\n",
       "      <th>AAPL</th>\n",
       "      <td>169.127365</td>\n",
       "      <td>0</td>\n",
       "    </tr>\n",
       "    <tr>\n",
       "      <th>AMZN</th>\n",
       "      <td>102.050003</td>\n",
       "      <td>0</td>\n",
       "    </tr>\n",
       "    <tr>\n",
       "      <th>DX</th>\n",
       "      <td>10.728498</td>\n",
       "      <td>0</td>\n",
       "    </tr>\n",
       "    <tr>\n",
       "      <th>FAST</th>\n",
       "      <td>53.924286</td>\n",
       "      <td>0</td>\n",
       "    </tr>\n",
       "    <tr>\n",
       "      <th>KO</th>\n",
       "      <td>63.311699</td>\n",
       "      <td>0</td>\n",
       "    </tr>\n",
       "  </tbody>\n",
       "</table>\n",
       "</div>"
      ],
      "text/plain": [
       "                      close  day\n",
       "date       tic                  \n",
       "2023-05-01 AAPL  169.127365    0\n",
       "           AMZN  102.050003    0\n",
       "           DX     10.728498    0\n",
       "           FAST   53.924286    0\n",
       "           KO     63.311699    0"
      ]
     },
     "execution_count": 4,
     "metadata": {},
     "output_type": "execute_result"
    }
   ],
   "source": [
    "from yahoodownloader import YahooDownloader \n",
    "\n",
    "tickers = set(transaction_df['tic'])\n",
    "Start_Date = '2023-05-01'\n",
    "End_Date = '2023-11-03'\n",
    "\n",
    "daily_return_df = YahooDownloader(start_date = Start_Date,\n",
    "                     end_date = End_Date,\n",
    "                     ticker_list = tickers).fetch_data()\n",
    "\n",
    "\n",
    "daily_return_df = daily_return_df.drop(['open','high','low','volume'], axis=1)\n",
    "daily_return_df = daily_return_df.set_index(['date','tic'])\n",
    "\n",
    "daily_return_df.head()"
   ]
  },
  {
   "cell_type": "markdown",
   "id": "ee3efde1",
   "metadata": {},
   "source": [
    "merge the daily return and transaction data"
   ]
  },
  {
   "cell_type": "code",
   "execution_count": 5,
   "id": "ee54e663",
   "metadata": {},
   "outputs": [
    {
     "data": {
      "text/html": [
       "<div>\n",
       "<style scoped>\n",
       "    .dataframe tbody tr th:only-of-type {\n",
       "        vertical-align: middle;\n",
       "    }\n",
       "\n",
       "    .dataframe tbody tr th {\n",
       "        vertical-align: top;\n",
       "    }\n",
       "\n",
       "    .dataframe thead th {\n",
       "        text-align: right;\n",
       "    }\n",
       "</style>\n",
       "<table border=\"1\" class=\"dataframe\">\n",
       "  <thead>\n",
       "    <tr style=\"text-align: right;\">\n",
       "      <th></th>\n",
       "      <th></th>\n",
       "      <th>close</th>\n",
       "      <th>Qty</th>\n",
       "      <th>Amount</th>\n",
       "      <th>Investing_value</th>\n",
       "      <th>Cash</th>\n",
       "    </tr>\n",
       "    <tr>\n",
       "      <th>date</th>\n",
       "      <th>tic</th>\n",
       "      <th></th>\n",
       "      <th></th>\n",
       "      <th></th>\n",
       "      <th></th>\n",
       "      <th></th>\n",
       "    </tr>\n",
       "  </thead>\n",
       "  <tbody>\n",
       "    <tr>\n",
       "      <th rowspan=\"5\" valign=\"top\">2023-05-01</th>\n",
       "      <th>AAPL</th>\n",
       "      <td>169.127365</td>\n",
       "      <td>0.0</td>\n",
       "      <td>0.0</td>\n",
       "      <td>0.0</td>\n",
       "      <td>1000000.0</td>\n",
       "    </tr>\n",
       "    <tr>\n",
       "      <th>AMZN</th>\n",
       "      <td>102.050003</td>\n",
       "      <td>0.0</td>\n",
       "      <td>0.0</td>\n",
       "      <td>0.0</td>\n",
       "      <td>1000000.0</td>\n",
       "    </tr>\n",
       "    <tr>\n",
       "      <th>DX</th>\n",
       "      <td>10.728498</td>\n",
       "      <td>0.0</td>\n",
       "      <td>0.0</td>\n",
       "      <td>0.0</td>\n",
       "      <td>1000000.0</td>\n",
       "    </tr>\n",
       "    <tr>\n",
       "      <th>FAST</th>\n",
       "      <td>53.924286</td>\n",
       "      <td>0.0</td>\n",
       "      <td>0.0</td>\n",
       "      <td>0.0</td>\n",
       "      <td>1000000.0</td>\n",
       "    </tr>\n",
       "    <tr>\n",
       "      <th>KO</th>\n",
       "      <td>63.311699</td>\n",
       "      <td>0.0</td>\n",
       "      <td>0.0</td>\n",
       "      <td>0.0</td>\n",
       "      <td>1000000.0</td>\n",
       "    </tr>\n",
       "  </tbody>\n",
       "</table>\n",
       "</div>"
      ],
      "text/plain": [
       "                      close  Qty  Amount  Investing_value       Cash\n",
       "date       tic                                                      \n",
       "2023-05-01 AAPL  169.127365  0.0     0.0              0.0  1000000.0\n",
       "           AMZN  102.050003  0.0     0.0              0.0  1000000.0\n",
       "           DX     10.728498  0.0     0.0              0.0  1000000.0\n",
       "           FAST   53.924286  0.0     0.0              0.0  1000000.0\n",
       "           KO     63.311699  0.0     0.0              0.0  1000000.0"
      ]
     },
     "execution_count": 5,
     "metadata": {},
     "output_type": "execute_result"
    }
   ],
   "source": [
    "initial_balance = 1000000\n",
    "merged_data = pd.merge(daily_return_df, my_dataframe, left_on=['date','tic'], right_on=['date','tic'], how='outer', indicator=True)\n",
    "merged_data['Amount'] = merged_data['Amount'].ffill()\n",
    "merged_data['Qty']  = merged_data.groupby(['tic'])['Qty'].ffill()\n",
    "\n",
    "merged_data = merged_data.drop(['day','Qty_chg','Amount_chg','_merge'],axis=1)\n",
    "merged_data =merged_data.fillna(0)\n",
    "merged_data['Investing_value'] = merged_data['close'] * merged_data['Qty']\n",
    "merged_data['Cash'] = initial_balance - merged_data['Amount']\n",
    "\n",
    "merged_data.head()"
   ]
  },
  {
   "cell_type": "code",
   "execution_count": 6,
   "id": "f0fbeed9",
   "metadata": {},
   "outputs": [],
   "source": [
    "investing_value = merged_data.groupby('date')['Investing_value'].sum()"
   ]
  },
  {
   "cell_type": "code",
   "execution_count": 7,
   "id": "d62a9b0b",
   "metadata": {},
   "outputs": [],
   "source": [
    "cash = merged_data.groupby('date')['Cash'].last()"
   ]
  },
  {
   "cell_type": "code",
   "execution_count": 8,
   "id": "baec14a4",
   "metadata": {},
   "outputs": [],
   "source": [
    "portfolio_value = investing_value + cash"
   ]
  },
  {
   "cell_type": "code",
   "execution_count": 9,
   "id": "fcc343e7",
   "metadata": {},
   "outputs": [
    {
     "data": {
      "text/plain": [
       "date\n",
       "2023-05-01    1.000000e+06\n",
       "2023-05-02    1.000000e+06\n",
       "2023-05-03    1.000000e+06\n",
       "2023-05-04    1.000000e+06\n",
       "2023-05-05    1.000000e+06\n",
       "                  ...     \n",
       "2023-10-27    9.880435e+05\n",
       "2023-10-30    9.923507e+05\n",
       "2023-10-31    9.992460e+05\n",
       "2023-11-01    1.014702e+06\n",
       "2023-11-02    1.053728e+06\n",
       "Length: 130, dtype: float64"
      ]
     },
     "execution_count": 9,
     "metadata": {},
     "output_type": "execute_result"
    }
   ],
   "source": [
    "portfolio_value"
   ]
  },
  {
   "cell_type": "markdown",
   "id": "4c6ca727",
   "metadata": {},
   "source": [
    "### 2. Encapsulate all the process and get our portfolio daily return"
   ]
  },
  {
   "cell_type": "code",
   "execution_count": 10,
   "id": "55b3c843",
   "metadata": {},
   "outputs": [
    {
     "name": "stdout",
     "output_type": "stream",
     "text": [
      "[*********************100%***********************]  1 of 1 completed\n",
      "[*********************100%***********************]  1 of 1 completed\n",
      "[*********************100%***********************]  1 of 1 completed\n",
      "[*********************100%***********************]  1 of 1 completed\n",
      "[*********************100%***********************]  1 of 1 completed\n",
      "[*********************100%***********************]  1 of 1 completed\n",
      "[*********************100%***********************]  1 of 1 completed\n",
      "[*********************100%***********************]  1 of 1 completed\n",
      "[*********************100%***********************]  1 of 1 completed\n",
      "[*********************100%***********************]  1 of 1 completed\n",
      "[*********************100%***********************]  1 of 1 completed\n",
      "[*********************100%***********************]  1 of 1 completed\n"
     ]
    }
   ],
   "source": [
    "from dataprocessing import DataProcessing           \n",
    "# find the code in dataprocessing.py\n",
    "\n",
    "Start_Date = '2023-05-01'\n",
    "End_Date = '2023-11-03'\n",
    "csv_file = 'sample.csv'\n",
    "\n",
    "processor = DataProcessing(Start_Date, End_Date, csv_file)\n",
    "portfolio_value = processor.portfolio_value\n",
    "sp500 = processor.sp500_portfolio"
   ]
  },
  {
   "cell_type": "code",
   "execution_count": 11,
   "id": "560bb66f",
   "metadata": {},
   "outputs": [],
   "source": [
    "from financialmetrics import FinancialMetrics "
   ]
  },
  {
   "cell_type": "code",
   "execution_count": 12,
   "id": "6180a849",
   "metadata": {},
   "outputs": [],
   "source": [
    "fm = FinancialMetrics(portfolio_value, sp500)"
   ]
  },
  {
   "cell_type": "code",
   "execution_count": 13,
   "id": "5ed9ac2b",
   "metadata": {},
   "outputs": [
    {
     "name": "stdout",
     "output_type": "stream",
     "text": [
      "Annualized return is 0.1076\n",
      "Beta is 1.3215\n",
      "Max Drawdown is 0.2291\n",
      "Sortino ratio is 0.4159\n",
      "Treynor ratio is 0.0663\n",
      "Calmar ratio is 0.4699\n",
      "Tracking error is 0.0090\n",
      "Best return is 0.2073\n",
      "Worst return is -0.0217\n"
     ]
    }
   ],
   "source": [
    "ret = fm.annualized_return()\n",
    "print(f\"Annualized return is {ret:.4f}\")\n",
    "\n",
    "\n",
    "Beta = fm.beta()\n",
    "print(f\"Beta is {Beta:.4f}\")\n",
    "\n",
    "max_drawdown = fm.max_drawdown()\n",
    "print(f\"Max Drawdown is {max_drawdown:.4f}\")\n",
    "\n",
    "Sortino = fm.sortino_ratio()\n",
    "print(f\"Sortino ratio is {Sortino:.4f}\")\n",
    "\n",
    "\n",
    "Treynor = fm.treynor_ratio()\n",
    "print(f\"Treynor ratio is {Treynor:.4f}\")\n",
    "\n",
    "\n",
    "Calmar = fm.calmar_ratio()\n",
    "print(f\"Calmar ratio is {Calmar:.4f}\")\n",
    "\n",
    "tracking_error = fm.tracking_error()\n",
    "print(f\"Tracking error is {tracking_error:.4f}\")\n",
    "\n",
    "\n",
    "best_ret = fm.best_return()\n",
    "print(f\"Best return is {best_ret:.4f}\")\n",
    "\n",
    "worst_ret = fm.worst_return()\n",
    "print(f\"Worst return is {worst_ret:.4f}\")\n",
    "\n"
   ]
  },
  {
   "cell_type": "code",
   "execution_count": 14,
   "id": "fb000b51",
   "metadata": {},
   "outputs": [
    {
     "data": {
      "image/png": "[encoded data removed]",
      "text/plain": [
       "<Figure size 1200x500 with 1 Axes>"
      ]
     },
     "metadata": {},
     "output_type": "display_data"
    }
   ],
   "source": [
    "processor.plot()"
   ]
  },
  {
   "cell_type": "code",
   "execution_count": null,
   "id": "968c0da6",
   "metadata": {},
   "outputs": [],
   "source": []
  }
 ],
 "metadata": {
  "kernelspec": {
   "display_name": "Python 3 (ipykernel)",
   "language": "python",
   "name": "python3"
  },
  "language_info": {
   "codemirror_mode": {
    "name": "ipython",
    "version": 3
   },
   "file_extension": ".py",
   "mimetype": "text/x-python",
   "name": "python",
   "nbconvert_exporter": "python",
   "pygments_lexer": "ipython3",
   "version": "3.10.9"
  }
 },
 "nbformat": 4,
 "nbformat_minor": 5
}
